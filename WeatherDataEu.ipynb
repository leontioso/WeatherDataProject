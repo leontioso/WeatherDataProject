{
 "cells": [
  {
   "cell_type": "code",
   "execution_count": 18,
   "metadata": {},
   "outputs": [],
   "source": [
    "import psycopg2\n",
    "import csv\n",
    "import os"
   ]
  },
  {
   "cell_type": "code",
   "execution_count": 28,
   "metadata": {},
   "outputs": [],
   "source": [
    "conn = psycopg2.connect('dbname = weatherdata user=postgres')\n",
    "with conn:\n",
    "    with conn.cursor() as cur:\n",
    "        for file in os.listdir('/Users/leontiosorfanos/Desktop/SqlProjects/WeatherData/ECA_blend_tg'):\n",
    "            if file not in {'stations.txt', 'sources.txt', 'elements.txt'}:\n",
    "                cur.execute(f'''create table if not exists eca_blend_tg (staid integer, souid integer, date date, tg integer, q_tg integer check( q_tg in (0, 1, 9)))\n",
    "                            ;\n",
    "                        \n",
    "                        copy eca_blend_tg (staid, souid, date, tg, q_tg)\n",
    "                        from program 'tail -q -n +22 /Users/leontiosorfanos/Desktop/SqlProjects/WeatherData/ECA_blend_tg/{file}'\n",
    "                        delimiter ',' ''')\n",
    "        "
   ]
  },
  {
   "cell_type": "code",
   "execution_count": 23,
   "metadata": {},
   "outputs": [],
   "source": [
    "conn.rollback()"
   ]
  }
 ],
 "metadata": {
  "kernelspec": {
   "display_name": "Python 3.9.7 ('base')",
   "language": "python",
   "name": "python3"
  },
  "language_info": {
   "codemirror_mode": {
    "name": "ipython",
    "version": 3
   },
   "file_extension": ".py",
   "mimetype": "text/x-python",
   "name": "python",
   "nbconvert_exporter": "python",
   "pygments_lexer": "ipython3",
   "version": "3.9.7"
  },
  "orig_nbformat": 4,
  "vscode": {
   "interpreter": {
    "hash": "86c6455a3744ed69cd61e517536736e26960f898258ecc323a7ac9519882daa4"
   }
  }
 },
 "nbformat": 4,
 "nbformat_minor": 2
}
