{
 "cells": [
  {
   "cell_type": "code",
   "execution_count": 1,
   "metadata": {},
   "outputs": [],
   "source": [
    "import psycopg2\n",
    "import csv\n",
    "import os\n",
    "import sql_functions\n",
    "import concurrent.futures\n"
   ]
  },
  {
   "cell_type": "code",
   "execution_count": 2,
   "metadata": {},
   "outputs": [],
   "source": [
    "directory = '/home/leontioso/Desktop/WeatherData/csv_files' \n",
    "code_set = set()\n",
    "files = os.listdir(directory)\n",
    "for file in files:\n",
    "    if file.startswith('ECA'):\n",
    "        weather_variable_code = file[10:12]\n",
    "        code_set.add(weather_variable_code)\n"
   ]
  },
  {
   "cell_type": "code",
   "execution_count": null,
   "metadata": {},
   "outputs": [],
   "source": [
    "with concurrent.futures.ThreadPoolExecutor() as executor:\n",
    "    results = executor.map(sql_functions.create_populate_eca_table, code_set)\n",
    "    for result in results:\n",
    "        print(result)"
   ]
  },
  {
   "cell_type": "code",
   "execution_count": null,
   "metadata": {},
   "outputs": [],
   "source": [
    "sql_functions.create_populate_stations()"
   ]
  },
  {
   "cell_type": "code",
   "execution_count": null,
   "metadata": {},
   "outputs": [],
   "source": [
    "sql_functions.create_populate_elements()"
   ]
  },
  {
   "cell_type": "code",
   "execution_count": 5,
   "metadata": {},
   "outputs": [
    {
     "name": "stdout",
     "output_type": "stream",
     "text": [
      "eca_blend_dd combined\n",
      "eca_blend_fg combined\n",
      "eca_blend_hu combined\n",
      "eca_blend_sd combined\n",
      "eca_blend_qq combined\n",
      "eca_blend_rr combined\n",
      "eca_blend_cc combined\n",
      "eca_blend_pp combined\n",
      "eca_blend_tg combined\n",
      "eca_blend_ss combined\n",
      "eca_blend_fx combined\n",
      "eca_blend_tx combined\n",
      "eca_blend_tn combined\n"
     ]
    }
   ],
   "source": [
    "sql_functions.create_populate_sources(code_set)"
   ]
  },
  {
   "cell_type": "code",
   "execution_count": 3,
   "metadata": {},
   "outputs": [
    {
     "name": "stdout",
     "output_type": "stream",
     "text": [
      "Eca_table_fx updated\n",
      "Eca_table_dd updated\n",
      "Eca_table_qq updated\n",
      "Eca_table_pp updated\n",
      "Eca_table_ss updated\n",
      "Eca_table_hu updated\n",
      "Eca_table_cc updated\n",
      "Eca_table_fg updated\n",
      "Eca_table_tg updated\n",
      "Eca_table_tn updated\n",
      "Eca_table_tx updated\n",
      "Eca_table_sd updated\n",
      "Eca_table_rr updated\n"
     ]
    }
   ],
   "source": [
    "with concurrent.futures.ThreadPoolExecutor() as executor:\n",
    "    results = executor.map(sql_functions.update_eca_tables_withnull, code_set)\n"
   ]
  },
  {
   "cell_type": "code",
   "execution_count": null,
   "metadata": {},
   "outputs": [],
   "source": []
  }
 ],
 "metadata": {
  "kernelspec": {
   "display_name": "Python 3.9.12 ('base')",
   "language": "python",
   "name": "python3"
  },
  "language_info": {
   "codemirror_mode": {
    "name": "ipython",
    "version": 3
   },
   "file_extension": ".py",
   "mimetype": "text/x-python",
   "name": "python",
   "nbconvert_exporter": "python",
   "pygments_lexer": "ipython3",
   "version": "3.9.12"
  },
  "orig_nbformat": 4,
  "vscode": {
   "interpreter": {
    "hash": "3648867ea5c5000c659bc74fb749be396bbee54dca8953c4f1eceb0ed452ec8a"
   }
  }
 },
 "nbformat": 4,
 "nbformat_minor": 2
}
